{
  "nbformat": 4,
  "nbformat_minor": 0,
  "metadata": {
    "colab": {
      "provenance": []
    },
    "kernelspec": {
      "name": "python3",
      "display_name": "Python 3"
    },
    "language_info": {
      "name": "python"
    }
  },
  "cells": [
    {
      "cell_type": "markdown",
      "source": [
        " Analisis Univariado, para las variables (housing_median_age, total_rooms, total_bedrooms, households, median_income, median_house_value) del conjunto de datos california_housing_test.csv de la plataforma Jupyter Notebook\n"
      ],
      "metadata": {
        "id": "ZraP0OV_T1Fp"
      }
    },
    {
      "cell_type": "markdown",
      "source": [
        "**variable housing_median_age**"
      ],
      "metadata": {
        "id": "h2UzEJ0fYxst"
      }
    },
    {
      "cell_type": "markdown",
      "source": [
        "**HISTOGRAMA**"
      ],
      "metadata": {
        "id": "I8ksN2vKY5_z"
      }
    },
    {
      "cell_type": "code",
      "source": [
        "import matplotlib.pyplot as plt\n",
        "\n",
        "# Datos de ejemplo\n",
        "datos = [27.000000, 43.000000, 27.000000, 28.000000,19.000000,37.000000,43.000000,\n",
        "         19.000000, 15.000000, 31.000000]\n",
        "\n",
        "# Crear el histograma\n",
        "plt.hist(datos, bins=[ 1, 10,20,30, 40, 50], edgecolor='black')\n",
        "\n",
        "# Etiquetas y título\n",
        "plt.xlabel('Edad')\n",
        "plt.ylabel('frecuencia')\n",
        "plt.title('Histograma housing_median_age')\n",
        "\n",
        "# Mostrar el histograma\n",
        "plt.show()\n",
        "\n"
      ],
      "metadata": {
        "colab": {
          "base_uri": "https://localhost:8080/",
          "height": 472
        },
        "id": "s5bwYn8HJjD8",
        "outputId": "5cb1e81e-5d25-46a8-f99b-b9c253bce4e4"
      },
      "execution_count": null,
      "outputs": [
        {
          "output_type": "display_data",
          "data": {
            "text/plain": [
              "<Figure size 640x480 with 1 Axes>"
            ],
            "image/png": "[encoded data removed]"
          },
          "metadata": {}
        }
      ]
    },
    {
      "cell_type": "markdown",
      "source": [
        "en el histograma se muestra que las personas entre 10 y 30 años de edad vivian 3 en una casa, y que las personas entre 30 y 50 años de edad solo vivian 2"
      ],
      "metadata": {
        "id": "hfnO7zlSuYIi"
      }
    },
    {
      "cell_type": "markdown",
      "source": [
        "**Medidas de Centralidad**"
      ],
      "metadata": {
        "id": "hMUnmErCZTc7"
      }
    },
    {
      "cell_type": "code",
      "source": [
        "import pandas as pd\n",
        "\n",
        "# Datos de ejemplo\n",
        "data = {\n",
        "    'housing_median_age': [27.000000, 43.000000, 27.000000, 28.000000, 19.000000,\n",
        "                           37.000000, 43.000000, 19.000000, 15.000000, 31.000000]\n",
        "\n",
        "}\n",
        "\n",
        "# Convertir a un DataFrame\n",
        "df = pd.DataFrame(data)\n",
        "\n",
        "# Calcular las medidas de centralidad\n",
        "central_tendency = {\n",
        "    'Mean': df.mean(),\n",
        "    'Median': df.median(),\n",
        "    'Mode': df.mode().iloc[0]  # Tomamos la primera moda si hay más de una\n",
        "}\n",
        "\n",
        "# Mostrar las medidas de centralidad\n",
        "print(pd.DataFrame(central_tendency))\n"
      ],
      "metadata": {
        "colab": {
          "base_uri": "https://localhost:8080/"
        },
        "id": "gzmNXWdjbqcH",
        "outputId": "b6525612-c857-4b2c-cdf7-395d6337a4b3"
      },
      "execution_count": null,
      "outputs": [
        {
          "output_type": "stream",
          "name": "stdout",
          "text": [
            "                    Mean  Median  Mode\n",
            "housing_median_age  28.9    27.5  19.0\n"
          ]
        }
      ]
    },
    {
      "cell_type": "markdown",
      "source": [
        "se evidencian que  la mayoría de las casas tienen 19 años, que la edad promedio y la mediana se sitúan cerca de los 27-28 años."
      ],
      "metadata": {
        "id": "uyemd3S7vyM4"
      }
    },
    {
      "cell_type": "markdown",
      "source": [
        " **Medidas de Dispersión**"
      ],
      "metadata": {
        "id": "7GvFoBsHZWvM"
      }
    },
    {
      "cell_type": "code",
      "source": [
        "import pandas as pd\n",
        "\n",
        "# Datos de ejemplo\n",
        "data = {\n",
        "    'housing_median_age': [27.000000, 43.000000, 27.000000, 28.000000, 19.000000,\n",
        "                           37.000000, 43.000000, 19.000000, 15.000000, 31.000000]\n",
        "\n",
        "}\n",
        "\n",
        "# Convertir a un DataFrame\n",
        "df = pd.DataFrame(data)\n",
        "\n",
        "# Calcular las medidas de dispersión\n",
        "dispersion_measures = {\n",
        "    'Standard Deviation': df.std(),\n",
        "    'Range': df.max() - df.min(),\n",
        "    'IQR': df.quantile(0.75) - df.quantile(0.25)\n",
        "}\n",
        "\n",
        "# Mostrar las medidas de dispersión\n",
        "print(pd.DataFrame(dispersion_measures))\n"
      ],
      "metadata": {
        "colab": {
          "base_uri": "https://localhost:8080/"
        },
        "id": "1Q5ozeVGj9BD",
        "outputId": "5f79245e-92d4-45d4-a5c1-3c7867e7610b"
      },
      "execution_count": null,
      "outputs": [
        {
          "output_type": "stream",
          "name": "stdout",
          "text": [
            "                    Standard Deviation  Range   IQR\n",
            "housing_median_age            9.803061   28.0  14.5\n"
          ]
        }
      ]
    },
    {
      "cell_type": "markdown",
      "source": [
        "**Desviación estándar**(7.78): Esto indica que, en promedio, las edades de las casas varían alrededor de 7.78 años respecto a la media.\n",
        "\n",
        "**Rango** (28): Hay una diferencia de 28 años entre la casa más vieja y la más nueva.\n",
        "\n",
        "**IQR** (11): La diferencia entre el 75% de las casas más nuevas y el 25% más viejas es de 11 años."
      ],
      "metadata": {
        "id": "8xXmuUK7wvoq"
      }
    },
    {
      "cell_type": "markdown",
      "source": [
        "**variable total_rooms**"
      ],
      "metadata": {
        "id": "MHBejpAcmfqm"
      }
    },
    {
      "cell_type": "markdown",
      "source": [
        "**HISTOGRAMA**"
      ],
      "metadata": {
        "id": "-Dx3O1TJmvc9"
      }
    },
    {
      "cell_type": "code",
      "source": [
        "import matplotlib.pyplot as plt\n",
        "\n",
        "# Datos de ejemplo\n",
        "datos = [3885.000000, 1510.000000, 3589.000000, 67.000000, 1241.000000,\n",
        "         1018.000000, 1009.000000, 2310.000000, 3080.000000, 2402.000000]\n",
        "\n",
        "# Crear el histograma con bins ajustados\n",
        "plt.hist(datos, bins=[0, 500, 1000, 1500, 2000, 3000, 4000], edgecolor='black')\n",
        "\n",
        "# Etiquetas y título\n",
        "plt.xlabel('rooms')\n",
        "plt.ylabel('Frecuencia')\n",
        "plt.title('Histograma total_rooms')\n",
        "\n",
        "# Mostrar el histograma\n",
        "plt.show()\n"
      ],
      "metadata": {
        "colab": {
          "base_uri": "https://localhost:8080/",
          "height": 472
        },
        "id": "8YyVeqpgnbGd",
        "outputId": "8c04a17f-6f6a-4072-bc93-95363e629eb0"
      },
      "execution_count": null,
      "outputs": [
        {
          "output_type": "display_data",
          "data": {
            "text/plain": [
              "<Figure size 640x480 with 1 Axes>"
            ],
            "image/png": "[encoded data removed]"
          },
          "metadata": {}
        }
      ]
    },
    {
      "cell_type": "markdown",
      "source": [
        "**Medidas de Centralidad**"
      ],
      "metadata": {
        "id": "FECE0vQrnVpv"
      }
    },
    {
      "cell_type": "code",
      "source": [
        "import pandas as pd\n",
        "\n",
        "# Datos de ejemplo\n",
        "data = {\n",
        "    'total_rooms': [3885.000000, 1510.000000, 3589.000000, 67.000000, 1241.000000,\n",
        "                          1018.000000, 1009.000000, 2310.000000, 3080.000000, 2402.000000]\n",
        "\n",
        "}\n",
        "\n",
        "# Convertir a un DataFrame\n",
        "df = pd.DataFrame(data)\n",
        "\n",
        "# Calcular las medidas de centralidad\n",
        "central_tendency = {\n",
        "    'Mean': df.mean(),\n",
        "    'Median': df.median(),\n",
        "    'Mode': df.mode().iloc[0]  # Tomamos la primera moda si hay más de una\n",
        "}\n",
        "\n",
        "# Mostrar las medidas de centralidad\n",
        "print(pd.DataFrame(central_tendency))"
      ],
      "metadata": {
        "colab": {
          "base_uri": "https://localhost:8080/"
        },
        "id": "f4Pm9mzTng1U",
        "outputId": "a098fb9a-c9ab-4055-c7d5-11a16c3c9908"
      },
      "execution_count": null,
      "outputs": [
        {
          "output_type": "stream",
          "name": "stdout",
          "text": [
            "               Mean  Median  Mode\n",
            "total_rooms  2011.1  1910.0  67.0\n"
          ]
        }
      ]
    },
    {
      "cell_type": "markdown",
      "source": [
        "**Medidas de Dispersión**"
      ],
      "metadata": {
        "id": "yewV8-E0nTTz"
      }
    },
    {
      "cell_type": "code",
      "source": [
        "import pandas as pd\n",
        "\n",
        "# Datos de ejemplo\n",
        "data = {\n",
        "    'total_rooms': [3885.000000, 1510.000000, 3589.000000, 67.000000, 1241.000000,\n",
        "                          1018.000000, 1009.000000, 2310.000000, 3080.000000, 2402.000000]\n",
        "\n",
        "}\n",
        "\n",
        "# Convertir a un DataFrame\n",
        "df = pd.DataFrame(data)\n",
        "\n",
        "# Calcular las medidas de dispersión\n",
        "dispersion_measures = {\n",
        "    'Standard Deviation': df.std(),\n",
        "    'Range': df.max() - df.min(),\n",
        "    'IQR': df.quantile(0.75) - df.quantile(0.25)\n",
        "}\n",
        "\n",
        "# Mostrar las medidas de dispersión\n",
        "print(pd.DataFrame(dispersion_measures))"
      ],
      "metadata": {
        "colab": {
          "base_uri": "https://localhost:8080/"
        },
        "id": "59WTgAMXnniP",
        "outputId": "b9b1e142-8a52-4bf4-968c-dd88e0dbd909"
      },
      "execution_count": null,
      "outputs": [
        {
          "output_type": "stream",
          "name": "stdout",
          "text": [
            "             Standard Deviation   Range      IQR\n",
            "total_rooms         1247.223267  3818.0  1836.75\n"
          ]
        }
      ]
    },
    {
      "cell_type": "markdown",
      "source": [
        "**variable total_bedrooms**"
      ],
      "metadata": {
        "id": "yOV9EYzKxdPR"
      }
    },
    {
      "cell_type": "markdown",
      "source": [
        "**HISTOGRAMA**"
      ],
      "metadata": {
        "id": "c0RrS96Cxgqg"
      }
    },
    {
      "cell_type": "code",
      "source": [
        "import matplotlib.pyplot as plt\n",
        "\n",
        "# Datos de ejemplo\n",
        "datos = [661.000000, 310.000000, 507.000000, 15.000000, 244.000000,\n",
        "         213.000000, 225.000000, 471.000000, \t617.000000, 632.000000]\n",
        "\n",
        "# Crear el histograma con bins ajustados\n",
        "plt.hist(datos, bins=[0, 100,200, 300, 400, 500, 600, 700, 800, 900, 1000], edgecolor='black')\n",
        "\n",
        "# Etiquetas y título\n",
        "plt.xlabel('bedrooms')\n",
        "plt.ylabel('Frecuencia')\n",
        "plt.title('Histograma de total_bedrooms')\n",
        "\n",
        "# Mostrar el histograma\n",
        "plt.show()\n"
      ],
      "metadata": {
        "colab": {
          "base_uri": "https://localhost:8080/",
          "height": 472
        },
        "id": "Sfd50AGsyBZn",
        "outputId": "0be673d8-fbef-48f7-80c3-da4e16c5418a"
      },
      "execution_count": null,
      "outputs": [
        {
          "output_type": "display_data",
          "data": {
            "text/plain": [
              "<Figure size 640x480 with 1 Axes>"
            ],
            "image/png": "[encoded data removed]"
          },
          "metadata": {}
        }
      ]
    },
    {
      "cell_type": "markdown",
      "source": [
        "**Medidas de Centralidad**"
      ],
      "metadata": {
        "id": "99spER-o04f1"
      }
    },
    {
      "cell_type": "code",
      "source": [
        "import pandas as pd\n",
        "\n",
        "# Datos de ejemplo\n",
        "data = {\n",
        "    'total_bedrooms': [661.000000, 310.000000, 507.000000, 15.000000, 244.000000,\n",
        "                    213.000000, 225.000000, 471.000000, \t617.000000, 632.000000]\n",
        "\n",
        "}\n",
        "\n",
        "# Convertir a un DataFrame\n",
        "df = pd.DataFrame(data)\n",
        "\n",
        "# Calcular las medidas de centralidad\n",
        "central_tendency = {\n",
        "    'Mean': df.mean(),\n",
        "    'Median': df.median(),\n",
        "    'Mode': df.mode().iloc[0]  # Tomamos la primera moda si hay más de una\n",
        "}\n",
        "\n",
        "# Mostrar las medidas de centralidad\n",
        "print(pd.DataFrame(central_tendency))"
      ],
      "metadata": {
        "colab": {
          "base_uri": "https://localhost:8080/"
        },
        "id": "RYDqX_2c-1mk",
        "outputId": "0a8e4cfe-12d6-4e0f-943a-004bc3e51fc5"
      },
      "execution_count": null,
      "outputs": [
        {
          "output_type": "stream",
          "name": "stdout",
          "text": [
            "                 Mean  Median  Mode\n",
            "total_bedrooms  389.5   390.5  15.0\n"
          ]
        }
      ]
    },
    {
      "cell_type": "markdown",
      "source": [
        "**MEdida de dipersion**\n"
      ],
      "metadata": {
        "id": "fh80CYjF0-15"
      }
    },
    {
      "cell_type": "code",
      "source": [
        "import pandas as pd\n",
        "\n",
        "# Datos de ejemplo\n",
        "data = {\n",
        "    'total_bedrooms': [661.000000, 310.000000, 507.000000, 15.000000, 244.000000,\n",
        "                           213.000000, 225.000000, 471.000000, \t617.000000, 632.000000]\n",
        "\n",
        "}\n",
        "\n",
        "# Convertir a un DataFrame\n",
        "df = pd.DataFrame(data)\n",
        "\n",
        "# Calcular las medidas de dispersión\n",
        "dispersion_measures = {\n",
        "    'Standard Deviation': df.std(),\n",
        "    'Range': df.max() - df.min(),\n",
        "    'IQR': df.quantile(0.75) - df.quantile(0.25)\n",
        "}\n",
        "\n",
        "# Mostrar las medidas de dispersión\n",
        "print(pd.DataFrame(dispersion_measures))"
      ],
      "metadata": {
        "colab": {
          "base_uri": "https://localhost:8080/"
        },
        "id": "O941Swl8EY9g",
        "outputId": "2f1982d7-d27b-4f0e-e885-22311f11f5e5"
      },
      "execution_count": null,
      "outputs": [
        {
          "output_type": "stream",
          "name": "stdout",
          "text": [
            "                Standard Deviation  Range     IQR\n",
            "total_bedrooms          218.753159  646.0  359.75\n"
          ]
        }
      ]
    },
    {
      "cell_type": "markdown",
      "source": [
        "**variable households**"
      ],
      "metadata": {
        "id": "xrljU-sJJKSu"
      }
    },
    {
      "cell_type": "markdown",
      "source": [
        "**HISTOGRAMA**"
      ],
      "metadata": {
        "id": "7oxF942uJKzt"
      }
    },
    {
      "cell_type": "code",
      "source": [
        "import matplotlib.pyplot as plt\n",
        "\n",
        "# Datos de ejemplo\n",
        "datos = [606.000000, 277.000000, 495.000000, 11.000000,237.000000,\n",
        "         204.000000, 218.000000, 441.000000, 599.000000, 603.000000]\n",
        "\n",
        "# Crear el histograma con bins ajustados\n",
        "plt.hist(datos, bins=[0, 50, 100, 200, 300, 400, 500, 600, 700], edgecolor='black')\n",
        "\n",
        "# Etiquetas y título\n",
        "plt.xlabel('households')\n",
        "plt.ylabel('Frecuencia')\n",
        "plt.title(' Histograma households')\n",
        "\n",
        "# Mostrar el histograma\n",
        "plt.show()"
      ],
      "metadata": {
        "colab": {
          "base_uri": "https://localhost:8080/",
          "height": 472
        },
        "id": "PHh1QU2rJORN",
        "outputId": "b6e80c81-57d6-4786-e145-e0208298e519"
      },
      "execution_count": null,
      "outputs": [
        {
          "output_type": "display_data",
          "data": {
            "text/plain": [
              "<Figure size 640x480 with 1 Axes>"
            ],
            "image/png": "[encoded data removed]"
          },
          "metadata": {}
        }
      ]
    },
    {
      "cell_type": "markdown",
      "source": [
        "**medidas de centralidad**"
      ],
      "metadata": {
        "id": "srVQ9WlaK6QK"
      }
    },
    {
      "cell_type": "code",
      "source": [
        "import pandas as pd\n",
        "\n",
        "# Datos de ejemplo\n",
        "data = {\n",
        "    'households': [606.000000, 277.000000, 495.000000, 11.000000,237.000000,\n",
        "                       204.000000, 218.000000, 441.000000, 599.000000, 603.000000]\n",
        "\n",
        "}\n",
        "\n",
        "# Convertir a un DataFrame\n",
        "df = pd.DataFrame(data)\n",
        "\n",
        "# Calcular las medidas de centralidad\n",
        "central_tendency = {\n",
        "    'Mean': df.mean(),\n",
        "    'Median': df.median(),\n",
        "    'Mode': df.mode().iloc[0]  # Tomamos la primera moda si hay más de una\n",
        "}\n",
        "\n",
        "# Mostrar las medidas de centralidad\n",
        "print(pd.DataFrame(central_tendency))"
      ],
      "metadata": {
        "colab": {
          "base_uri": "https://localhost:8080/"
        },
        "id": "zKfgb8oVLAwD",
        "outputId": "e928d260-b3d6-426f-8b91-4d05b602944c"
      },
      "execution_count": null,
      "outputs": [
        {
          "output_type": "stream",
          "name": "stdout",
          "text": [
            "             Mean  Median  Mode\n",
            "households  369.1   359.0  11.0\n"
          ]
        }
      ]
    },
    {
      "cell_type": "markdown",
      "source": [
        "**medida de dispersion**"
      ],
      "metadata": {
        "id": "itYlXjptLMNz"
      }
    },
    {
      "cell_type": "code",
      "source": [
        "import pandas as pd\n",
        "\n",
        "# Datos de ejemplo\n",
        "data = {\n",
        "    'households':[606.000000, 277.000000, 495.000000, 11.000000,237.000000,\n",
        "                      204.000000, 218.000000, 441.000000, 599.000000, 603.000000]\n",
        "\n",
        "}\n",
        "\n",
        "# Convertir a un DataFrame\n",
        "df = pd.DataFrame(data)\n",
        "\n",
        "# Calcular las medidas de dispersión\n",
        "dispersion_measures = {\n",
        "    'Standard Deviation': df.std(),\n",
        "    'Range': df.max() - df.min(),\n",
        "    'IQR': df.quantile(0.75) - df.quantile(0.25)\n",
        "}\n",
        "\n",
        "# Mostrar las medidas de dispersión\n",
        "print(pd.DataFrame(dispersion_measures))"
      ],
      "metadata": {
        "colab": {
          "base_uri": "https://localhost:8080/"
        },
        "id": "bum910RCLPNl",
        "outputId": "6a6b83c6-ccb2-478b-ea23-6d55f1553556"
      },
      "execution_count": null,
      "outputs": [
        {
          "output_type": "stream",
          "name": "stdout",
          "text": [
            "            Standard Deviation  Range     IQR\n",
            "households          207.889634  595.0  350.25\n"
          ]
        }
      ]
    },
    {
      "cell_type": "markdown",
      "source": [
        "**variable median_income**"
      ],
      "metadata": {
        "id": "bbtL-bxSL08g"
      }
    },
    {
      "cell_type": "markdown",
      "source": [
        "**histograma**"
      ],
      "metadata": {
        "id": "10wLE4lpL4DX"
      }
    },
    {
      "cell_type": "code",
      "source": [
        "import matplotlib.pyplot as plt\n",
        "\n",
        "# Datos de ejemplo\n",
        "datos = [6.608500, 3.599000, 5.793400, 6.135900, 2.937500,\n",
        "         1.663500, 1.664100, 3.225000, 3.669600, 2.333300]\n",
        "\n",
        "# Crear el histograma\n",
        "plt.hist(datos, bins=[ 1, 2, 3, 4, 5, 6, 7, 8, 9, 10], edgecolor='black')\n",
        "\n",
        "# Etiquetas y título\n",
        "plt.xlabel('median_income')\n",
        "plt.ylabel('frecuencia')\n",
        "plt.title('Histograma median_income')\n",
        "\n",
        "# Mostrar el histogramaistograma\n",
        "plt.show()"
      ],
      "metadata": {
        "colab": {
          "base_uri": "https://localhost:8080/",
          "height": 472
        },
        "id": "scE51VCOMu91",
        "outputId": "90e561fd-24a5-4142-d611-cca865053c5d"
      },
      "execution_count": null,
      "outputs": [
        {
          "output_type": "display_data",
          "data": {
            "text/plain": [
              "<Figure size 640x480 with 1 Axes>"
            ],
            "image/png": "[encoded data removed]"
          },
          "metadata": {}
        }
      ]
    },
    {
      "cell_type": "markdown",
      "source": [
        "**medida de centralidad**"
      ],
      "metadata": {
        "id": "UkwhOFH9MZn7"
      }
    },
    {
      "cell_type": "code",
      "source": [
        "import pandas as pd\n",
        "\n",
        "# Datos de ejemplo\n",
        "data = {\n",
        "    'median_income':[6.608500, 3.599000, 5.793400, 6.135900, 2.937500,\n",
        "                     1.663500, 1.664100, 3.225000, 3.669600, 2.333300]\n",
        "\n",
        "}\n",
        "\n",
        "# Convertir a un DataFrame\n",
        "df = pd.DataFrame(data)\n",
        "\n",
        "# Calcular las medidas de centralidad\n",
        "central_tendency = {\n",
        "    'Mean': df.mean(),\n",
        "    'Median': df.median(),\n",
        "    'Mode': df.mode().iloc[0]  # Tomamos la primera moda si hay más de una\n",
        "}\n",
        "\n",
        "# Mostrar las medidas de centralidad\n",
        "print(pd.DataFrame(central_tendency))\n"
      ],
      "metadata": {
        "id": "rt3yRlezNKIB",
        "outputId": "3fbd8ff3-4ea5-4310-e172-6c2286a8f363",
        "colab": {
          "base_uri": "https://localhost:8080/"
        }
      },
      "execution_count": null,
      "outputs": [
        {
          "output_type": "stream",
          "name": "stdout",
          "text": [
            "                  Mean  Median    Mode\n",
            "median_income  3.76298   3.412  1.6635\n"
          ]
        }
      ]
    },
    {
      "cell_type": "markdown",
      "source": [
        "**medida de dispersion**"
      ],
      "metadata": {
        "id": "hmd3UwznMdSd"
      }
    },
    {
      "cell_type": "code",
      "source": [
        "import pandas as pd\n",
        "\n",
        "# Datos de ejemplo\n",
        "data = {\n",
        "    'median_income': [6.608500, 3.599000, 5.793400, 6.135900, 2.937500,\n",
        "                      1.663500, 1.664100, 3.225000, 3.669600, 2.333300],\n",
        "\n",
        "}\n",
        "\n",
        "# Convertir a un DataFrame\n",
        "df = pd.DataFrame(data)\n",
        "\n",
        "# Calcular las medidas de dispersión\n",
        "dispersion_measures = {\n",
        "    'Standard Deviation': df.std(),\n",
        "    'Range': df.max() - df.min(),\n",
        "    'IQR': df.quantile(0.75) - df.quantile(0.25)\n",
        "}\n",
        "\n",
        "# Mostrar las medidas de dispersión\n",
        "print(pd.DataFrame(dispersion_measures))"
      ],
      "metadata": {
        "colab": {
          "base_uri": "https://localhost:8080/"
        },
        "id": "i_KRlw1wNOeA",
        "outputId": "190f420d-d05c-4225-c832-33676c155dfa"
      },
      "execution_count": null,
      "outputs": [
        {
          "output_type": "stream",
          "name": "stdout",
          "text": [
            "               Standard Deviation  Range     IQR\n",
            "median_income            1.817015  4.945  2.7781\n"
          ]
        }
      ]
    },
    {
      "cell_type": "markdown",
      "source": [
        "**variable median_house_value**"
      ],
      "metadata": {
        "id": "hOGwfOBOPn8A"
      }
    },
    {
      "cell_type": "markdown",
      "source": [
        "**histograma**"
      ],
      "metadata": {
        "id": "PjhwY8v6MMFT"
      }
    },
    {
      "cell_type": "code",
      "source": [
        "import matplotlib.pyplot as plt\n",
        "\n",
        "# Datos de ejemplo\n",
        "datos = [344700.000000, 176500.000000, 270500.000000, 330000.000000, 81700.000000,\n",
        "         67000.000000, 67000.000000, 166900.000000, 194400.000000, 164200.000000]\n",
        "# Crear el histograma\n",
        "plt.hist(datos, bins=[ 500, 1000,5000, 10000, 15000,100000,150000,200000,\n",
        "                       250000, 300000, 350000], edgecolor='black')\n",
        "\n",
        "# Etiquetas y título\n",
        "plt.xlabel('median_house_value')\n",
        "plt.ylabel('frecuencia')\n",
        "plt.title('Histograma median_house_value')\n",
        "\n",
        "# Mostrar el histograma"
      ],
      "metadata": {
        "colab": {
          "base_uri": "https://localhost:8080/",
          "height": 489
        },
        "id": "fBerFzYfMwat",
        "outputId": "f3cc7040-d431-4b40-c5a8-71ce00c443d7"
      },
      "execution_count": null,
      "outputs": [
        {
          "output_type": "execute_result",
          "data": {
            "text/plain": [
              "Text(0.5, 1.0, 'Histograma median_house_value')"
            ]
          },
          "metadata": {},
          "execution_count": 141
        },
        {
          "output_type": "display_data",
          "data": {
            "text/plain": [
              "<Figure size 640x480 with 1 Axes>"
            ],
            "image/png": "[encoded data removed]"
          },
          "metadata": {}
        }
      ]
    },
    {
      "cell_type": "markdown",
      "source": [
        "**medida de centralidad**"
      ],
      "metadata": {
        "id": "3z4k16tZMVpq"
      }
    },
    {
      "cell_type": "code",
      "source": [
        "import pandas as pd\n",
        "\n",
        "# Datos de ejemplo\n",
        "data = {\n",
        "    'median_house_value': [344700.000000, 176500.000000, 270500.000000, 330000.000000, 81700.000000,\n",
        "                           67000.000000, 67000.000000, 166900.000000, 194400.000000, 164200.000000]\n",
        "\n",
        "}\n",
        "\n",
        "# Convertir a un DataFrame\n",
        "df = pd.DataFrame(data)\n",
        "\n",
        "# Calcular las medidas de centralidad\n",
        "central_tendency = {\n",
        "    'Mean': df.mean(),\n",
        "    'Median': df.median(),\n",
        "    'Mode': df.mode().iloc[0]  # Tomamos la primera moda si hay más de una\n",
        "}\n",
        "\n",
        "# Mostrar las medidas de centralidad\n",
        "print(pd.DataFrame(central_tendency))"
      ],
      "metadata": {
        "colab": {
          "base_uri": "https://localhost:8080/"
        },
        "id": "f4tBwcf9NS5p",
        "outputId": "f8fba196-e921-4f55-b614-0fabd7b37c07"
      },
      "execution_count": null,
      "outputs": [
        {
          "output_type": "stream",
          "name": "stdout",
          "text": [
            "                        Mean    Median     Mode\n",
            "median_house_value  186290.0  171700.0  67000.0\n"
          ]
        }
      ]
    },
    {
      "cell_type": "markdown",
      "source": [
        "**medida de dispersion**"
      ],
      "metadata": {
        "id": "RiiVJtu9Mhar"
      }
    },
    {
      "cell_type": "code",
      "source": [
        "import pandas as pd\n",
        "\n",
        "# Datos de ejemplo\n",
        "data = {\n",
        "    'median_house_value': [344700.000000, 176500.000000, 270500.000000, 330000.000000, 81700.000000,\n",
        "                           67000.000000, 67000.000000, 166900.000000, 194400.000000, 164200.000000],\n",
        "\n",
        "}\n",
        "\n",
        "# Convertir a un DataFrame\n",
        "df = pd.DataFrame(data)\n",
        "\n",
        "# Calcular las medidas de dispersión\n",
        "dispersion_measures = {\n",
        "    'Standard Deviation': df.std(),\n",
        "    'Range': df.max() - df.min(),\n",
        "    'IQR': df.quantile(0.75) - df.quantile(0.25)\n",
        "}\n",
        "\n",
        "# Mostrar las medidas de dispersión\n",
        "print(pd.DataFrame(dispersion_measures))"
      ],
      "metadata": {
        "colab": {
          "base_uri": "https://localhost:8080/"
        },
        "id": "qVVn9dTwNPZw",
        "outputId": "5b7d6ae6-b839-49fa-e0ad-8ac4e6991035"
      },
      "execution_count": null,
      "outputs": [
        {
          "output_type": "stream",
          "name": "stdout",
          "text": [
            "                    Standard Deviation     Range       IQR\n",
            "median_house_value       101796.337524  277700.0  149150.0\n"
          ]
        }
      ]
    },
    {
      "cell_type": "markdown",
      "source": [
        "**Analisis Multivariado entre las variables (median_house_value, total_rooms, total_bedrooms) para determinar posibles patrones de correlación de conjunto de datos california_housing_test.csv**"
      ],
      "metadata": {
        "id": "6D975XzqXOeg"
      }
    },
    {
      "cell_type": "markdown",
      "source": [],
      "metadata": {
        "id": "QxuuL9aJXZb4"
      }
    },
    {
      "cell_type": "code",
      "source": [
        "import numpy as np\n",
        "import pandas as pd\n",
        "\n",
        "mediana_house_values = [344700.000000, 176500.000000, 270500.000000, 330000.000000, 81700.000000,\n",
        "                        67000.000000, 67000.000000, 166900.000000, 194400.000000, 164200.000000]\n",
        "\n",
        "total_rooms = [3885.000000, 1510.000000, 3589.000000, 67.000000, 1241.000000,\n",
        "               1018.000000, 1009.000000, 2310.000000, 3080.000000, 2402.000000]\n",
        "\n",
        "\n",
        "total_bedrooms = [661.000000, 310.000000, 507.000000, 15.000000, 244.000000,\n",
        "                  213.000000, 225.000000, 471.000000, 617.000000, 632.000000]\n",
        "\n",
        "# Crear un DataFrame\n",
        "data = pd.DataFrame({\n",
        "    'Mediana_House_Values': mediana_house_values,\n",
        "    'Total_Rooms': total_rooms,\n",
        "    'Total_Bedrooms': total_bedrooms\n",
        "})\n",
        "\n",
        "# Calcular la correlación entre las variables\n",
        "correlation_matrix = data.corr()\n",
        "print(correlation_matrix)"
      ],
      "metadata": {
        "colab": {
          "base_uri": "https://localhost:8080/"
        },
        "id": "F4nJiQ6Rcffj",
        "outputId": "cfdb54fb-56e8-4a53-d3e2-3a62209e40f2"
      },
      "execution_count": null,
      "outputs": [
        {
          "output_type": "stream",
          "name": "stdout",
          "text": [
            "                      Mediana_House_Values  Total_Rooms  Total_Bedrooms\n",
            "Mediana_House_Values              1.000000     0.409594        0.252804\n",
            "Total_Rooms                       0.409594     1.000000        0.927131\n",
            "Total_Bedrooms                    0.252804     0.927131        1.000000\n"
          ]
        }
      ]
    },
    {
      "cell_type": "markdown",
      "source": [
        "**Mediana_House_Values y Total_Rooms** tienen una alta correlación positiva (0.41):  Las casas con más habitaciones tienden a ser más caras, pero no siempre es asi.\n",
        "\n",
        "**Mediana_House_Values y Total_Bedrooms** también tienen una correlación positiva moderada(0.25):  el número de dormitorios  no parece ser un factor tan determinante para el valor de la casa .\n",
        "\n",
        "**Total_Bedrooms y Total_Rooms** (0.93): Existe una relación muy fuerte entre el número de habitaciones y el número de dormitorios. A medida que aumentan las habitaciones en una casa, es muy probable que aumenten los dormitorios también."
      ],
      "metadata": {
        "id": "sxjPkz0Xr-Lw"
      }
    },
    {
      "cell_type": "code",
      "source": [],
      "metadata": {
        "id": "xbZiuDK9trFE"
      },
      "execution_count": null,
      "outputs": []
    },
    {
      "cell_type": "markdown",
      "source": [
        "**MUESTRA OR GRAFICA**"
      ],
      "metadata": {
        "id": "70xuh9tjtqG4"
      }
    },
    {
      "cell_type": "code",
      "source": [
        "import numpy as np\n",
        "import pandas as pd\n",
        "import seaborn as sns\n",
        "import matplotlib.pyplot as plt\n",
        "\n",
        "# Datos proporcionados\n",
        "mediana_house_values = [344700.000000, 176500.000000, 270500.000000, 330000.000000, 81700.000000,\n",
        "                        67000.000000, 67000.000000, 166900.000000, 194400.000000, 164200.000000]\n",
        "\n",
        "\n",
        "total_rooms = [3885.000000, 1510.000000, 3589.000000, 67.000000, 1241.000000,\n",
        "               1018.000000, 1009.000000, 2310.000000, 3080.000000, 2402.000000]\n",
        "\n",
        "total_bedrooms = [661.000000, 310.000000, 507.000000, 15.000000, 244.000000,\n",
        "                  213.000000, 225.000000, 471.000000, 617.000000, 632.000000]\n",
        "\n",
        "\n",
        "# Crear un DataFrame\n",
        "data = pd.DataFrame({\n",
        "    'Mediana_House_Values': mediana_house_values,\n",
        "    'Total_Rooms': total_rooms,\n",
        "    'Total_Bedrooms': total_bedrooms\n",
        "\n",
        "})\n",
        "\n",
        "\n",
        "\n",
        "\n",
        "# Graficar los scatter plots entre las variables\n",
        "sns.pairplot(data)\n",
        "plt.suptitle('Gráficos de dispersión entre variables', y=1.02)\n",
        "plt.show()"
      ],
      "metadata": {
        "colab": {
          "base_uri": "https://localhost:8080/",
          "height": 787
        },
        "id": "WiCz_u3LtdXj",
        "outputId": "3fe4a3ed-f716-439f-d28a-6ff7d7cf07d0"
      },
      "execution_count": null,
      "outputs": [
        {
          "output_type": "display_data",
          "data": {
            "text/plain": [
              "<Figure size 750x750 with 12 Axes>"
            ],
            "image/png": "[encoded data removed]"
          },
          "metadata": {}
        }
      ]
    },
    {
      "cell_type": "markdown",
      "source": [
        "La gráfica de dispersión muestra que el valor de la casa parece estar más relacionado con el número total de habitaciones que con el número de dormitorios. Sin embargo, en general, hay una tendencia de que las casas con más espacio (más habitaciones y más dormitorios) tienen un valor más alto."
      ],
      "metadata": {
        "id": "5WvK9aDntyjw"
      }
    }
  ]
}